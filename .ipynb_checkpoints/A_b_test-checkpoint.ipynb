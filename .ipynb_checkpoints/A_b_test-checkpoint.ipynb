{
 "cells": [
  {
   "cell_type": "markdown",
   "id": "468d8545-b350-4f8e-af5d-8f3ba802a5d9",
   "metadata": {},
   "source": [
    "## Defining the problem"
   ]
  },
  {
   "cell_type": "markdown",
   "id": "962aa5e1-6dfd-42e3-99f4-d5af55f80a90",
   "metadata": {},
   "source": [
    "**Current Situation:**  Lit Lantern is a mobile app that allows users to discover and read e-books and audiobooks. However, user engagement metrics show a decline in the average time users spend within the app.  \n",
    "**Goal:**  Increase user engagement.  \n",
    "**A/B Testing Opportunity:**  The company suspects the current recommendation system and user interface for suggested content might hinder exploring and discovering new books. We can use the A/B test to check whether designing a new user interface element like a carousel showcasing visually appealing previews and excerpts from proposed e-books/audiobooks will increase the click-through rate on book recommendations.\n",
    "\n",
    "*fictional situation generated with AI*"
   ]
  },
  {
   "cell_type": "markdown",
   "id": "8dba6540-bc52-4b8a-a172-47603992f5c7",
   "metadata": {},
   "source": [
    "## Metrics selection"
   ]
  },
  {
   "cell_type": "markdown",
   "id": "420aed03-0d02-4f11-be0a-9c0a65a3b6dc",
   "metadata": {},
   "source": [
    "The metrics selected for an A/B test should be measurable, sensitive enough to detect changes, and demonstrably linked to the specific product change under consideration.\n"
   ]
  },
  {
   "cell_type": "markdown",
   "id": "5d5441a3-a665-4057-8a88-a9395bfd92db",
   "metadata": {},
   "source": [
    "This test's goal metric was choosing a **click-through rate on book recommendations**.  \n",
    "There are also several guardrail metrics: \n",
    "\n",
    "- Session duration per user\n",
    "- Average number of sessions per user"
   ]
  },
  {
   "cell_type": "markdown",
   "id": "1a810142-9832-421e-ad20-a6b5daf2229d",
   "metadata": {},
   "source": [
    "## Hypothesis formulation"
   ]
  },
  {
   "cell_type": "markdown",
   "id": "83b1674c-b98f-4a14-8588-13abcd165140",
   "metadata": {},
   "source": [
    "We believe that adding a new feature will improve user engagement and increase the click-through rate metric. We also need to define the percentage of improvement. This can be achieved by analyzing historical data, consulting with stakeholders, or benchmarking against industry standards."
   ]
  },
  {
   "cell_type": "markdown",
   "id": "0557c589-3646-402d-967e-bc6abe3fa40c",
   "metadata": {},
   "source": [
    "So now we can formulate null and alternaltive hypotheses.  \n",
    "**Null hypothesis:**\n",
    "There is no difference in the click-through rate on book recommendations between Version A and Version B of the Lit Lantern app.  \n",
    "**Alternative hypothesis:**\n",
    "Users in Version B will have a 5% higher click-through rate on book recommendations compared to users in Version A during the A/B test period."
   ]
  },
  {
   "cell_type": "markdown",
   "id": "71a1ba3b-1f8e-44c7-8db5-05e5cef78823",
   "metadata": {},
   "source": [
    "## Computing Sample Size"
   ]
  },
  {
   "cell_type": "markdown",
   "id": "4e86edd0-77e7-496b-ac8d-bf5dd18ab8b4",
   "metadata": {},
   "source": [
    "To compute sample size we need to define the next values:\n",
    "- Significance level (α)\n",
    "- Statistical power ( 1- β)\n",
    "- effect size   \n",
    "\n",
    "The standard value for α is 0.05 and for power is 0.8. The effect size can be calculated with baseline metric number and minimum detectable effect."
   ]
  },
  {
   "cell_type": "code",
   "execution_count": 82,
   "id": "92b590cb-91eb-425f-8fbf-eb500d4bbb16",
   "metadata": {
    "tags": []
   },
   "outputs": [
    {
     "name": "stdout",
     "output_type": "stream",
     "text": [
      "-0.15189772139085922\n",
      "Minimum sample size per group is: 682\n"
     ]
    }
   ],
   "source": [
    "import numpy as np\n",
    "from statsmodels.stats.power import NormalIndPower, tt_ind_solve_power\n",
    "import statsmodels.api as sm\n",
    "import statsmodels.stats.api as sms\n",
    "from math import ceil\n",
    "\n",
    "power = 0.8  \n",
    "alpha = 0.05 \n",
    "baseline_ctr = 0.1\n",
    "mde = 0.05\n",
    " \n",
    "effect_size = sm.stats.proportion_effectsize(baseline_ctr, baseline_ctr+ mde)\n",
    "sample_size_per_group = tt_ind_solve_power(effect_size, power=power, alpha=alpha, ratio=1)\n",
    "\n",
    "print('Minimum sample size per group is: ' + str(ceil(sample_size_per_group)))"
   ]
  },
  {
   "cell_type": "markdown",
   "id": "9018fd60-13e2-4765-8b6f-2a5f09832bfe",
   "metadata": {
    "tags": []
   },
   "source": [
    "## Define test duration"
   ]
  },
  {
   "cell_type": "markdown",
   "id": "e425cdd2-8e6c-4f0d-b00a-b9737356710d",
   "metadata": {},
   "source": [
    "When choosing the test duration, it's important to calculate the number of randomization units. Additionally, we need to consider potential changes in weekly and monthly activity. Therefore, even if the sample size is small, we should avoid a test duration of less than a week."
   ]
  },
  {
   "cell_type": "markdown",
   "id": "d59bc1c6-91b8-4bbf-b2a1-c6918dcbc8d9",
   "metadata": {},
   "source": [
    "## Analyzing Results"
   ]
  },
  {
   "cell_type": "code",
   "execution_count": 84,
   "id": "9328ba83-2a0e-45b9-a605-40c30a4b9307",
   "metadata": {
    "tags": []
   },
   "outputs": [
    {
     "data": {
      "text/html": [
       "<div>\n",
       "<style scoped>\n",
       "    .dataframe tbody tr th:only-of-type {\n",
       "        vertical-align: middle;\n",
       "    }\n",
       "\n",
       "    .dataframe tbody tr th {\n",
       "        vertical-align: top;\n",
       "    }\n",
       "\n",
       "    .dataframe thead th {\n",
       "        text-align: right;\n",
       "    }\n",
       "</style>\n",
       "<table border=\"1\" class=\"dataframe\">\n",
       "  <thead>\n",
       "    <tr style=\"text-align: right;\">\n",
       "      <th></th>\n",
       "      <th>user_id</th>\n",
       "      <th>date</th>\n",
       "      <th>ctr</th>\n",
       "      <th>session_duration</th>\n",
       "      <th>session_number</th>\n",
       "    </tr>\n",
       "  </thead>\n",
       "  <tbody>\n",
       "    <tr>\n",
       "      <th>0</th>\n",
       "      <td>1521</td>\n",
       "      <td>2024-06-27</td>\n",
       "      <td>0.076181</td>\n",
       "      <td>16.722841</td>\n",
       "      <td>5</td>\n",
       "    </tr>\n",
       "    <tr>\n",
       "      <th>1</th>\n",
       "      <td>1737</td>\n",
       "      <td>2024-06-25</td>\n",
       "      <td>0.129865</td>\n",
       "      <td>29.841803</td>\n",
       "      <td>8</td>\n",
       "    </tr>\n",
       "    <tr>\n",
       "      <th>2</th>\n",
       "      <td>1740</td>\n",
       "      <td>2024-06-28</td>\n",
       "      <td>0.093589</td>\n",
       "      <td>38.500940</td>\n",
       "      <td>1</td>\n",
       "    </tr>\n",
       "    <tr>\n",
       "      <th>3</th>\n",
       "      <td>1660</td>\n",
       "      <td>2024-06-25</td>\n",
       "      <td>0.074943</td>\n",
       "      <td>38.757159</td>\n",
       "      <td>7</td>\n",
       "    </tr>\n",
       "    <tr>\n",
       "      <th>4</th>\n",
       "      <td>1411</td>\n",
       "      <td>2024-06-27</td>\n",
       "      <td>0.123428</td>\n",
       "      <td>33.561669</td>\n",
       "      <td>6</td>\n",
       "    </tr>\n",
       "  </tbody>\n",
       "</table>\n",
       "</div>"
      ],
      "text/plain": [
       "   user_id        date       ctr  session_duration  session_number\n",
       "0     1521  2024-06-27  0.076181         16.722841               5\n",
       "1     1737  2024-06-25  0.129865         29.841803               8\n",
       "2     1740  2024-06-28  0.093589         38.500940               1\n",
       "3     1660  2024-06-25  0.074943         38.757159               7\n",
       "4     1411  2024-06-27  0.123428         33.561669               6"
      ]
     },
     "execution_count": 84,
     "metadata": {},
     "output_type": "execute_result"
    }
   ],
   "source": [
    "import pandas as pd\n",
    "import matplotlib.pyplot as plt\n",
    "import seaborn as sns\n",
    "df = pd.read_csv('ab_test_control.csv')\n",
    "df.head()"
   ]
  },
  {
   "cell_type": "code",
   "execution_count": 85,
   "id": "70aba527-a3c8-462f-aa42-4eed0f26ba3f",
   "metadata": {
    "tags": []
   },
   "outputs": [
    {
     "name": "stdout",
     "output_type": "stream",
     "text": [
      "<class 'pandas.core.frame.DataFrame'>\n",
      "RangeIndex: 682 entries, 0 to 681\n",
      "Data columns (total 5 columns):\n",
      " #   Column            Non-Null Count  Dtype  \n",
      "---  ------            --------------  -----  \n",
      " 0   user_id           682 non-null    int64  \n",
      " 1   date              682 non-null    object \n",
      " 2   ctr               682 non-null    float64\n",
      " 3   session_duration  682 non-null    float64\n",
      " 4   session_number    682 non-null    int64  \n",
      "dtypes: float64(2), int64(2), object(1)\n",
      "memory usage: 26.8+ KB\n"
     ]
    }
   ],
   "source": [
    "df.info()"
   ]
  },
  {
   "cell_type": "code",
   "execution_count": 86,
   "id": "2f9e3114-1a54-4444-9681-16c2f5b20c82",
   "metadata": {
    "tags": []
   },
   "outputs": [],
   "source": [
    "df['group'] = 'A'"
   ]
  },
  {
   "cell_type": "code",
   "execution_count": 87,
   "id": "4e317320-6a42-40d9-a29c-ca4bbe9be22c",
   "metadata": {
    "tags": []
   },
   "outputs": [
    {
     "data": {
      "text/html": [
       "<div>\n",
       "<style scoped>\n",
       "    .dataframe tbody tr th:only-of-type {\n",
       "        vertical-align: middle;\n",
       "    }\n",
       "\n",
       "    .dataframe tbody tr th {\n",
       "        vertical-align: top;\n",
       "    }\n",
       "\n",
       "    .dataframe thead th {\n",
       "        text-align: right;\n",
       "    }\n",
       "</style>\n",
       "<table border=\"1\" class=\"dataframe\">\n",
       "  <thead>\n",
       "    <tr style=\"text-align: right;\">\n",
       "      <th></th>\n",
       "      <th>user_id</th>\n",
       "      <th>date</th>\n",
       "      <th>ctr</th>\n",
       "      <th>session_duration</th>\n",
       "      <th>session_number</th>\n",
       "    </tr>\n",
       "  </thead>\n",
       "  <tbody>\n",
       "    <tr>\n",
       "      <th>0</th>\n",
       "      <td>1521</td>\n",
       "      <td>2024-06-25</td>\n",
       "      <td>0.125814</td>\n",
       "      <td>30.067380</td>\n",
       "      <td>5</td>\n",
       "    </tr>\n",
       "    <tr>\n",
       "      <th>1</th>\n",
       "      <td>1737</td>\n",
       "      <td>2024-06-25</td>\n",
       "      <td>0.181525</td>\n",
       "      <td>62.435912</td>\n",
       "      <td>8</td>\n",
       "    </tr>\n",
       "    <tr>\n",
       "      <th>2</th>\n",
       "      <td>1740</td>\n",
       "      <td>2024-06-30</td>\n",
       "      <td>0.256688</td>\n",
       "      <td>27.483738</td>\n",
       "      <td>7</td>\n",
       "    </tr>\n",
       "    <tr>\n",
       "      <th>3</th>\n",
       "      <td>1660</td>\n",
       "      <td>2024-06-30</td>\n",
       "      <td>0.173007</td>\n",
       "      <td>42.191104</td>\n",
       "      <td>2</td>\n",
       "    </tr>\n",
       "    <tr>\n",
       "      <th>4</th>\n",
       "      <td>1411</td>\n",
       "      <td>2024-06-30</td>\n",
       "      <td>0.106042</td>\n",
       "      <td>33.310305</td>\n",
       "      <td>6</td>\n",
       "    </tr>\n",
       "  </tbody>\n",
       "</table>\n",
       "</div>"
      ],
      "text/plain": [
       "   user_id        date       ctr  session_duration  session_number\n",
       "0     1521  2024-06-25  0.125814         30.067380               5\n",
       "1     1737  2024-06-25  0.181525         62.435912               8\n",
       "2     1740  2024-06-30  0.256688         27.483738               7\n",
       "3     1660  2024-06-30  0.173007         42.191104               2\n",
       "4     1411  2024-06-30  0.106042         33.310305               6"
      ]
     },
     "execution_count": 87,
     "metadata": {},
     "output_type": "execute_result"
    }
   ],
   "source": [
    "df2 = pd.read_csv('ab_test_variant.csv')\n",
    "df2.head()"
   ]
  },
  {
   "cell_type": "code",
   "execution_count": 88,
   "id": "d61c0c27-983a-4dff-8f6a-9ee3a0c94ce6",
   "metadata": {
    "tags": []
   },
   "outputs": [],
   "source": [
    "df2['group'] = 'B'"
   ]
  },
  {
   "cell_type": "code",
   "execution_count": 95,
   "id": "587ebb65-792a-4331-85bb-397fa1847691",
   "metadata": {
    "tags": []
   },
   "outputs": [],
   "source": [
    "data = pd.concat([df, df2])"
   ]
  },
  {
   "cell_type": "code",
   "execution_count": 96,
   "id": "cfb7bd03-ff7f-4534-a259-bc99e0cf9d4b",
   "metadata": {
    "tags": []
   },
   "outputs": [
    {
     "name": "stdout",
     "output_type": "stream",
     "text": [
      "<class 'pandas.core.frame.DataFrame'>\n",
      "Index: 1364 entries, 0 to 681\n",
      "Data columns (total 6 columns):\n",
      " #   Column            Non-Null Count  Dtype  \n",
      "---  ------            --------------  -----  \n",
      " 0   user_id           1364 non-null   int64  \n",
      " 1   date              1364 non-null   object \n",
      " 2   ctr               1364 non-null   float64\n",
      " 3   session_duration  1364 non-null   float64\n",
      " 4   session_number    1364 non-null   int64  \n",
      " 5   group             1364 non-null   object \n",
      "dtypes: float64(2), int64(2), object(2)\n",
      "memory usage: 74.6+ KB\n"
     ]
    }
   ],
   "source": [
    "data.info()"
   ]
  },
  {
   "cell_type": "code",
   "execution_count": 97,
   "id": "2dc8effb-db2a-476f-89f8-3cd2bd4588e6",
   "metadata": {
    "tags": []
   },
   "outputs": [],
   "source": [
    "data['date'] = pd.to_datetime(data['date'])"
   ]
  },
  {
   "cell_type": "markdown",
   "id": "f90659b0-05e0-4698-bb10-33e69d05768b",
   "metadata": {},
   "source": [
    "### Sample Ratio check"
   ]
  },
  {
   "cell_type": "code",
   "execution_count": 99,
   "id": "e01b6380-d6b5-477a-ab2b-e873aed0efaa",
   "metadata": {
    "tags": []
   },
   "outputs": [
    {
     "data": {
      "text/plain": [
       "group\n",
       "A    682\n",
       "B    682\n",
       "Name: user_id, dtype: int64"
      ]
     },
     "execution_count": 99,
     "metadata": {},
     "output_type": "execute_result"
    }
   ],
   "source": [
    "data.groupby('group').user_id.count()"
   ]
  },
  {
   "cell_type": "markdown",
   "id": "12863e3b-32d9-4916-8ab6-d826e847bc94",
   "metadata": {},
   "source": [
    "### Users per day"
   ]
  },
  {
   "cell_type": "code",
   "execution_count": 98,
   "id": "74c8c9ca-1337-4d41-aa07-289421a7c5b3",
   "metadata": {
    "tags": []
   },
   "outputs": [
    {
     "data": {
      "image/png": "[encoded data removed]",
      "text/plain": [
       "<Figure size 640x480 with 1 Axes>"
      ]
     },
     "metadata": {},
     "output_type": "display_data"
    }
   ],
   "source": [
    "sns.barplot(x = data.date.unique().date, y = data.groupby('date').user_id.count(), palette='mako')\n",
    "ticks = plt.xticks(rotation=45)"
   ]
  },
  {
   "cell_type": "code",
   "execution_count": 100,
   "id": "2edd3498-f75b-41df-8a61-b5759fd7e1de",
   "metadata": {
    "tags": []
   },
   "outputs": [
    {
     "data": {
      "text/plain": [
       "<Axes: xlabel='date', ylabel='user_id'>"
      ]
     },
     "execution_count": 100,
     "metadata": {},
     "output_type": "execute_result"
    },
    {
     "data": {
      "image/png": "[encoded data removed]",
      "text/plain": [
       "<Figure size 1000x600 with 1 Axes>"
      ]
     },
     "metadata": {},
     "output_type": "display_data"
    }
   ],
   "source": [
    "grouped_data = data.groupby(['date', 'group'])['user_id'].nunique().reset_index()\n",
    "plt.figure(figsize=(10, 6))\n",
    "sns.lineplot(x='date', y='user_id', hue='group', data=grouped_data, marker='o', palette='Set2')"
   ]
  },
  {
   "cell_type": "markdown",
   "id": "2c00adf4-7492-48e0-b143-8a951e4d16fc",
   "metadata": {},
   "source": [
    "### Test analysis"
   ]
  },
  {
   "cell_type": "code",
   "execution_count": 101,
   "id": "d9835c67-841e-4db0-a76c-7cd6ae811f61",
   "metadata": {
    "tags": []
   },
   "outputs": [
    {
     "data": {
      "text/plain": [
       "<Axes: ylabel='Density'>"
      ]
     },
     "execution_count": 101,
     "metadata": {},
     "output_type": "execute_result"
    },
    {
     "data": {
      "image/png": "[encoded data removed]",
      "text/plain": [
       "<Figure size 640x480 with 1 Axes>"
      ]
     },
     "metadata": {},
     "output_type": "display_data"
    }
   ],
   "source": [
    "sns.histplot(\n",
    "    {\n",
    "        \"group A\": data[data.group=='A'].ctr,\n",
    "        \"Group B\": data[data.group=='B'].ctr,\n",
    "    },\n",
    "    stat=\"density\",\n",
    "    kde=True,\n",
    "    bins=10\n",
    ")"
   ]
  },
  {
   "cell_type": "code",
   "execution_count": 102,
   "id": "06c50529-405a-4c54-8ce6-ef59a41db739",
   "metadata": {
    "tags": []
   },
   "outputs": [
    {
     "data": {
      "text/html": [
       "<div>\n",
       "<style scoped>\n",
       "    .dataframe tbody tr th:only-of-type {\n",
       "        vertical-align: middle;\n",
       "    }\n",
       "\n",
       "    .dataframe tbody tr th {\n",
       "        vertical-align: top;\n",
       "    }\n",
       "\n",
       "    .dataframe thead th {\n",
       "        text-align: right;\n",
       "    }\n",
       "</style>\n",
       "<table border=\"1\" class=\"dataframe\">\n",
       "  <thead>\n",
       "    <tr style=\"text-align: right;\">\n",
       "      <th></th>\n",
       "      <th>mean</th>\n",
       "      <th>std</th>\n",
       "    </tr>\n",
       "    <tr>\n",
       "      <th>group</th>\n",
       "      <th></th>\n",
       "      <th></th>\n",
       "    </tr>\n",
       "  </thead>\n",
       "  <tbody>\n",
       "    <tr>\n",
       "      <th>A</th>\n",
       "      <td>0.103837</td>\n",
       "      <td>0.050522</td>\n",
       "    </tr>\n",
       "    <tr>\n",
       "      <th>B</th>\n",
       "      <td>0.170654</td>\n",
       "      <td>0.049064</td>\n",
       "    </tr>\n",
       "  </tbody>\n",
       "</table>\n",
       "</div>"
      ],
      "text/plain": [
       "           mean       std\n",
       "group                    \n",
       "A      0.103837  0.050522\n",
       "B      0.170654  0.049064"
      ]
     },
     "execution_count": 102,
     "metadata": {},
     "output_type": "execute_result"
    }
   ],
   "source": [
    "std_p = lambda x:np.std(x, ddof=0)\n",
    "\n",
    "ctr = data.groupby('group')['ctr'].agg([np.mean, std_p])\n",
    "ctr.columns = ['mean', 'std']\n",
    "ctr"
   ]
  },
  {
   "cell_type": "code",
   "execution_count": 103,
   "id": "6a319b29-1508-44bc-bc02-eb01ae7d5802",
   "metadata": {
    "tags": []
   },
   "outputs": [
    {
     "name": "stdout",
     "output_type": "stream",
     "text": [
      "t-statistic = -24.759, p-value = 0.0000\n"
     ]
    }
   ],
   "source": [
    "from scipy import stats\n",
    "t_stat, p_value = stats.ttest_ind(data[data['group'] == 'A']['ctr'], data[data['group'] == 'B']['ctr'])\n",
    "print(f\"t-statistic = {t_stat:.3f}, p-value = {p_value:.4f}\")"
   ]
  },
  {
   "cell_type": "markdown",
   "id": "21592171-e4a1-4c84-a7b0-da7749cc6713",
   "metadata": {},
   "source": [
    "The p-value is less than the significance level, so we can reject the null hypothesis."
   ]
  },
  {
   "cell_type": "code",
   "execution_count": 104,
   "id": "de386843-fc86-4efd-b291-00834d740198",
   "metadata": {
    "tags": []
   },
   "outputs": [
    {
     "name": "stdout",
     "output_type": "stream",
     "text": [
      "Control Group (A) 95% CI: [0.100, 0.108]\n",
      "Variant Group (B) 95% CI: [0.167, 0.174]\n"
     ]
    }
   ],
   "source": [
    "ci_control = sms.DescrStatsW(data[data['group'] == 'A']['ctr']).tconfint_mean()\n",
    "ci_variant = sms.DescrStatsW(data[data['group'] == 'B']['ctr']).tconfint_mean()\n",
    "\n",
    "print(f\"Control Group (A) 95% CI: [{ci_control[0]:.3f}, {ci_control[1]:.3f}]\")\n",
    "print(f\"Variant Group (B) 95% CI: [{ci_variant[0]:.3f}, {ci_variant[1]:.3f}]\")"
   ]
  },
  {
   "cell_type": "markdown",
   "id": "d86a3a90-00b4-47b8-a5c7-da90a12147e9",
   "metadata": {},
   "source": [
    "The entire variant group CI does not include our baseline value (0.1) and it is bigger than our target value (0.15). So we can conclude that this result has practical significance."
   ]
  },
  {
   "cell_type": "markdown",
   "id": "4fa0cdca-c90a-4b5d-a835-5bd727d521a9",
   "metadata": {},
   "source": [
    "### Secondary metrics"
   ]
  },
  {
   "cell_type": "code",
   "execution_count": 105,
   "id": "5ba16f31-f7ae-4318-8b5c-80839a904a2d",
   "metadata": {
    "tags": []
   },
   "outputs": [
    {
     "data": {
      "image/png": "[encoded data removed]",
      "text/plain": [
       "<Figure size 640x480 with 1 Axes>"
      ]
     },
     "metadata": {},
     "output_type": "display_data"
    }
   ],
   "source": [
    "sns.barplot(x = data.group.unique(), y = data.groupby('group').session_duration.mean(), palette='mako')\n",
    "ticks = plt.xticks(rotation=45)"
   ]
  },
  {
   "cell_type": "code",
   "execution_count": 106,
   "id": "dd1b8b63-7388-41fc-bd41-dfe3edb12959",
   "metadata": {
    "tags": []
   },
   "outputs": [
    {
     "data": {
      "text/plain": [
       "group\n",
       "A    30.238195\n",
       "B    35.221800\n",
       "Name: session_duration, dtype: float64"
      ]
     },
     "execution_count": 106,
     "metadata": {},
     "output_type": "execute_result"
    }
   ],
   "source": [
    "data.groupby('group').session_duration.mean()"
   ]
  },
  {
   "cell_type": "code",
   "execution_count": 107,
   "id": "7562896d-4dd7-4e26-be1b-76b4b81be95b",
   "metadata": {
    "tags": []
   },
   "outputs": [
    {
     "name": "stdout",
     "output_type": "stream",
     "text": [
      "t-statistic = 182490.000, p-value = 0.0000\n"
     ]
    }
   ],
   "source": [
    "t_stat, p_value = stats.mannwhitneyu(data[data['group'] == 'A']['session_duration'], data[data['group'] == 'B']['session_duration'])\n",
    "print(f\"t-statistic = {t_stat:.3f}, p-value = {p_value:.4f}\")"
   ]
  },
  {
   "cell_type": "markdown",
   "id": "766e4dd4-a429-4235-9c8a-222c1f05914f",
   "metadata": {},
   "source": [
    "The average session duration has increased and it is statistically significant."
   ]
  },
  {
   "cell_type": "code",
   "execution_count": 108,
   "id": "7d869ccc-06a1-4016-a4c4-afee2e683a76",
   "metadata": {
    "tags": []
   },
   "outputs": [
    {
     "data": {
      "image/png": "[encoded data removed]",
      "text/plain": [
       "<Figure size 640x480 with 1 Axes>"
      ]
     },
     "metadata": {},
     "output_type": "display_data"
    }
   ],
   "source": [
    "sns.barplot(x = data.group.unique(), y = data.groupby('group').session_number.mean(), palette='mako')\n",
    "ticks = plt.xticks(rotation=45)"
   ]
  },
  {
   "cell_type": "code",
   "execution_count": 109,
   "id": "91c4ecf8-1c0e-44d7-9160-bb2d4a2b65f2",
   "metadata": {
    "tags": []
   },
   "outputs": [
    {
     "data": {
      "text/plain": [
       "group\n",
       "A    4.904692\n",
       "B    4.476540\n",
       "Name: session_number, dtype: float64"
      ]
     },
     "execution_count": 109,
     "metadata": {},
     "output_type": "execute_result"
    }
   ],
   "source": [
    "data.groupby('group').session_number.mean()"
   ]
  },
  {
   "cell_type": "code",
   "execution_count": 110,
   "id": "90c92e1d-b7ea-4938-a33a-669c59793450",
   "metadata": {
    "tags": []
   },
   "outputs": [
    {
     "name": "stdout",
     "output_type": "stream",
     "text": [
      "t-statistic = 3.592, p-value = 0.0003\n"
     ]
    }
   ],
   "source": [
    "t_stat, p_value = stats.ttest_ind(data[data['group'] == 'A']['session_number'], data[data['group'] == 'B']['session_number'])\n",
    "print(f\"t-statistic = {t_stat:.3f}, p-value = {p_value:.4f}\")"
   ]
  },
  {
   "cell_type": "markdown",
   "id": "850a16a5-b187-467d-a0a9-48520b7f2b0d",
   "metadata": {},
   "source": [
    "The number of sessions has reduced. However, the difference between the control and variant groups is small, which we can attribute to the increased session duration."
   ]
  },
  {
   "cell_type": "markdown",
   "id": "fd9b39c4-e4c8-4a13-92a7-4e6a7d98287c",
   "metadata": {},
   "source": [
    "## Conclusion"
   ]
  },
  {
   "cell_type": "markdown",
   "id": "ea396fab-5179-4fb8-89ce-c13ff70a427d",
   "metadata": {},
   "source": [
    "By statistical test, we can conclude that the difference between click-through rate in the control and variant groups is statistically and practically significant. Additionally, our assessment indicates that the secondary metrics did not exhibit a substantial negative impact. Therefore, based on these findings, we propose that it would be advisable to proceed with the implementation of the new feature."
   ]
  }
 ],
 "metadata": {
  "kernelspec": {
   "display_name": "Python 3 (ipykernel)",
   "language": "python",
   "name": "python3"
  },
  "language_info": {
   "codemirror_mode": {
    "name": "ipython",
    "version": 3
   },
   "file_extension": ".py",
   "mimetype": "text/x-python",
   "name": "python",
   "nbconvert_exporter": "python",
   "pygments_lexer": "ipython3",
   "version": "3.11.5"
  }
 },
 "nbformat": 4,
 "nbformat_minor": 5
}
